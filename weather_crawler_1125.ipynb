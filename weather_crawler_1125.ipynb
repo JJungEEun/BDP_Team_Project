{
 "cells": [
  {
   "cell_type": "code",
   "execution_count": null,
   "id": "ad8e3445",
   "metadata": {},
   "outputs": [],
   "source": [
    "import requests\n",
    "import csv\n",
    "from bs4 import BeautifulSoup\n",
    "fdata=[]\n",
    "# 1) reqeusts 라이브러리를 활용한 HTML 페이지 요청 \n",
    "# 1-1) res 객체에 HTML 데이터가 저장되고, res.content로 데이터를 추출할 수 있음\n",
    "\n",
    "year = input('년도를 입력하세요')\n",
    "res3 = requests.get('https://weatherspark.com/h/s/26197/'+year+'/3/Historical')\n",
    "res0 = requests.get('https://weatherspark.com/h/s/26197/'+year+'/0/Historical')\n",
    "res1 = requests.get('https://weatherspark.com/h/s/26197/'+year+'/1/Historical')\n",
    "res2 = requests.get('https://weatherspark.com/h/s/26197/'+year+'/2/Historical')\n",
    "# 3 winter 1 2 12 전처리할때 주의.\n",
    "# 0 spring 345\n",
    "# 1 summer 678\n",
    "# 2 fall 9 10 11\n",
    "soup = BeautifulSoup(res3.content, 'html.parser')\n",
    "data = soup.select_one(\"#Report-Content > div:nth-child(19) > div.flex_center > table > tbody  \")\n",
    "for n in data:\n",
    "    fdata.append(n.text.strip())\n",
    "    \n",
    "soup = BeautifulSoup(res0.content, 'html.parser')\n",
    "data = soup.select_one(\"#Report-Content > div:nth-child(19) > div.flex_center > table > tbody  \")\n",
    "for n in data:\n",
    "    fdata.append(n.text.strip())\n",
    "\n",
    "soup = BeautifulSoup(res1.content, 'html.parser')\n",
    "data = soup.select_one(\"#Report-Content > div:nth-child(19) > div.flex_center > table > tbody  \")\n",
    "for n in data:\n",
    "    fdata.append(n.text.strip())\n",
    "    \n",
    "soup = BeautifulSoup(res2.content, 'html.parser')\n",
    "data = soup.select_one(\"#Report-Content > div:nth-child(19) > div.flex_center > table > tbody  \")\n",
    "for n in data:\n",
    "    fdata.append(n.text.strip())\n",
    "fdata = list(filter(None, fdata))\n",
    "\n",
    "print(fdata)\n",
    "\n",
    "with open(year+\"weather.csv\",'w',newline='') as f:\n",
    "    writer = csv.writer(f)\n",
    "    writer.writerow(fdata)"
   ]
  }
 ],
 "metadata": {
  "kernelspec": {
   "display_name": "Python 3 (ipykernel)",
   "language": "python",
   "name": "python3"
  },
  "language_info": {
   "codemirror_mode": {
    "name": "ipython",
    "version": 3
   },
   "file_extension": ".py",
   "mimetype": "text/x-python",
   "name": "python",
   "nbconvert_exporter": "python",
   "pygments_lexer": "ipython3",
   "version": "3.9.10"
  }
 },
 "nbformat": 4,
 "nbformat_minor": 5
}
